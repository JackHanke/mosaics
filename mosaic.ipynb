{
 "cells": [
  {
   "cell_type": "code",
   "execution_count": null,
   "metadata": {},
   "outputs": [],
   "source": [
    "def a(n):\n",
    "    if n < 2: return 0 # check that the solution you eventually find for a,b,c,d includes this \n",
    "    if n == 2: return 36\n",
    "    return 6 * a(n-1) + 6 * b(n-1)\n",
    "\n",
    "\n",
    "def b(n):\n",
    "    if n < 2: return 0\n",
    "    if n == 2: return 0\n",
    "    return 6 * b(n-1) + 6 * d(n-1)\n",
    "\n",
    "\n",
    "def c(n):\n",
    "    if n < 2: return 0\n",
    "    if n == 2: return 0\n",
    "    return 6 * c(n-1) + 6 * b(n-1)\n",
    "\n",
    "def d(n):\n",
    "    if n < 2: return 0\n",
    "    if n == 2: return 1\n",
    "    return 6 * d(n-1) + (1/3) * b(n-1)\n",
    "\n",
    "def f(n):\n",
    "    return 2*a(n) + 4 * b(n) + 2*c(n) + d(n)\n",
    "\n",
    "def T_3(n):\n",
    "    if n < 2: return 0\n",
    "    if n == 2: return 73\n",
    "    sum = 0\n",
    "    for i in range(2,n-1):\n",
    "        sum += (6**(3*(n-i)) - T_3(n-i)) * (2*a(i)+4*b(i)+2*c(i)+d(i))\n",
    "    return 216*T_3(n-1) + sum + 216*(2*a(n-1)+4*b(n-1)+2*c(n-1)+d(n-1)) + (2*a(n)+4*b(n)+2*c(n)+d(n))"
   ]
  },
  {
   "cell_type": "code",
   "execution_count": 15,
   "metadata": {},
   "outputs": [
    {
     "name": "stdout",
     "output_type": "stream",
     "text": [
      "L_3(2) = [[73]\n",
      " [37]\n",
      " [37]\n",
      " [18]]\n",
      "L_3(3) = [[31998]\n",
      " [ 7794]\n",
      " [ 7794]\n",
      " [ 3997]]\n",
      "L_3(4) = [[10414981]\n",
      " [ 1585045]\n",
      " [ 1585045]\n",
      " [  847380]]\n",
      "L_3(5) = [[3005175624]\n",
      " [ 320742516]\n",
      " [ 320742516]\n",
      " [ 179237917]]\n",
      "L_3(6) = [[812051193421]\n",
      " [ 64613585701]\n",
      " [ 64613585701]\n",
      " [ 37893818958]]\n",
      "L_3(7) = [[210539818500354]\n",
      " [ 12950112601950]\n",
      " [ 12950112601950]\n",
      " [  8007868614097]]\n"
     ]
    }
   ],
   "source": [
    "import numpy as np\n",
    "\n",
    "def L_2(w):\n",
    "    b = (36**(w-2))*np.array([[1],[1]])\n",
    "    # b = np.array([[1],[1]])\n",
    "    m = np.array(\n",
    "        [\n",
    "            [36, 1],\n",
    "            [-1, 1]\n",
    "        ]\n",
    "    )\n",
    "    if w == 2: return b\n",
    "    return np.dot(m, L_2(w-1)) + b\n",
    "\n",
    "def L_3(w):\n",
    "    b = (216**(w-2))*np.array([[73],[37], [37], [18]])\n",
    "    # b = np.array([[1],[1]])\n",
    "    m = np.array(\n",
    "        [\n",
    "            [216, 6, 6, 1],\n",
    "            [-6, 6, 0, 1],\n",
    "            [-6, 0, 6, 1],\n",
    "            [-1, 1, 1, 6]\n",
    "        ]\n",
    "    )\n",
    "    if w == 2: return b\n",
    "    return np.dot(m, L_3(w-1)) + b\n",
    "\n",
    "for w in range(2,8):\n",
    "    # print(f'L_2({w}) = {L_2(w)}')\n",
    "    print(f'L_3({w}) = {L_3(w)}')\n"
   ]
  }
 ],
 "metadata": {
  "kernelspec": {
   "display_name": "SageMath 9.5",
   "language": "sage",
   "name": "sagemath"
  },
  "language_info": {
   "codemirror_mode": {
    "name": "ipython",
    "version": 3
   },
   "file_extension": ".py",
   "mimetype": "text/x-python",
   "name": "python",
   "nbconvert_exporter": "python",
   "pygments_lexer": "ipython3",
   "version": "3.11.2"
  }
 },
 "nbformat": 4,
 "nbformat_minor": 2
}
