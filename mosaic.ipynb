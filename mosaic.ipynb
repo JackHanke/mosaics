{
 "cells": [
  {
   "cell_type": "code",
   "execution_count": null,
   "metadata": {},
   "outputs": [],
   "source": [
    "def a(n):\n",
    "    if n < 2: return 0 # check that the solution you eventually find for a,b,c,d includes this \n",
    "    if n == 2: return 36\n",
    "    return 6 * a(n-1) + 6 * b(n-1)\n",
    "\n",
    "\n",
    "def b(n):\n",
    "    if n < 2: return 0\n",
    "    if n == 2: return 0\n",
    "    return 6 * b(n-1) + 6 * d(n-1)\n",
    "\n",
    "\n",
    "def c(n):\n",
    "    if n < 2: return 0\n",
    "    if n == 2: return 0\n",
    "    return 6 * c(n-1) + 6 * b(n-1)\n",
    "\n",
    "def d(n):\n",
    "    if n < 2: return 0\n",
    "    if n == 2: return 1\n",
    "    return 6 * d(n-1) + (1/3) * b(n-1)\n",
    "\n",
    "def f(n):\n",
    "    return 2*a(n) + 4 * b(n) + 2*c(n) + d(n)\n",
    "\n",
    "def T_3(n):\n",
    "    if n < 2: return 0\n",
    "    if n == 2: return 73\n",
    "    sum = 0\n",
    "    for i in range(2,n-1):\n",
    "        sum += (6**(3*(n-i)) - T_3(n-i)) * (2*a(i)+4*b(i)+2*c(i)+d(i))\n",
    "    return 216*T_3(n-1) + sum + 216*(2*a(n-1)+4*b(n-1)+2*c(n-1)+d(n-1)) + (2*a(n)+4*b(n)+2*c(n)+d(n))"
   ]
  }
 ],
 "metadata": {
  "language_info": {
   "name": "python"
  }
 },
 "nbformat": 4,
 "nbformat_minor": 2
}
