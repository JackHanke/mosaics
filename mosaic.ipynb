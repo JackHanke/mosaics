{
 "cells": [
  {
   "cell_type": "code",
   "execution_count": null,
   "metadata": {},
   "outputs": [],
   "source": [
    "def a(n):\n",
    "    if n < 2: return 0 # check that the solution you eventually find for a,b,c,d includes this \n",
    "    if n == 2: return 36\n",
    "    return 6 * a(n-1) + 6 * b(n-1)\n",
    "\n",
    "\n",
    "def b(n):\n",
    "    if n < 2: return 0\n",
    "    if n == 2: return 0\n",
    "    return 6 * b(n-1) + 6 * d(n-1)\n",
    "\n",
    "\n",
    "def c(n):\n",
    "    if n < 2: return 0\n",
    "    if n == 2: return 0\n",
    "    return 6 * c(n-1) + 6 * b(n-1)\n",
    "\n",
    "def d(n):\n",
    "    if n < 2: return 0\n",
    "    if n == 2: return 1\n",
    "    return 6 * d(n-1) + (1/3) * b(n-1)\n",
    "\n",
    "def f(n):\n",
    "    return 2*a(n) + 4 * b(n) + 2*c(n) + d(n)\n",
    "\n",
    "def T_3(n):\n",
    "    if n < 2: return 0\n",
    "    if n == 2: return 73\n",
    "    sum = 0\n",
    "    for i in range(2,n-1):\n",
    "        sum += (6**(3*(n-i)) - T_3(n-i)) * (2*a(i)+4*b(i)+2*c(i)+d(i))\n",
    "    return 216*T_3(n-1) + sum + 216*(2*a(n-1)+4*b(n-1)+2*c(n-1)+d(n-1)) + (2*a(n)+4*b(n)+2*c(n)+d(n))"
   ]
  },
  {
   "cell_type": "code",
   "execution_count": 1,
   "metadata": {},
   "outputs": [
    {
     "name": "stdout",
     "output_type": "stream",
     "text": [
      "L_2(2) = [[1]\n",
      " [1]]\n",
      "L_2(3) = [[73]\n",
      " [36]]\n",
      "L_2(4) = [[3960]\n",
      " [1259]]\n",
      "L_2(5) = [[190475]\n",
      " [ 43955]]\n",
      "L_2(6) = [[8580671]\n",
      " [1533096]]\n",
      "L_2(7) = [[370903428]\n",
      " [ 53418601]]\n"
     ]
    }
   ],
   "source": [
    "import numpy as np\n",
    "\n",
    "def L_2(w):\n",
    "    b = (36**(w-2))*np.array([[1],[1]])\n",
    "    # b = np.array([[1],[1]])\n",
    "    m = np.array(\n",
    "        [\n",
    "            [36, 1],\n",
    "            [-1, 1]\n",
    "        ]\n",
    "    )\n",
    "    if w == 2: return b\n",
    "    return np.dot(m, L_2(w-1)) + b\n",
    "\n",
    "def L_3(w):\n",
    "    b = (216**(w-2))*np.array([[73],[37], [37], [18]])\n",
    "    # b = np.array([[1],[1]])\n",
    "    m = np.array(\n",
    "        [\n",
    "            [216, 6, 6, 1],\n",
    "            [-6, 6, 0, 1],\n",
    "            [-6, 0, 6, 1],\n",
    "            [-1, 1, 1, 6]\n",
    "        ]\n",
    "    )\n",
    "    if w == 2: return b\n",
    "    return np.dot(m, L_3(w-1)) + b\n",
    "\n",
    "for w in range(2,8):\n",
    "    print(f'L_2({w}) = {L_2(w)}')\n",
    "    # print(f'L_3({w}) = {L_3(w)}')\n"
   ]
  },
  {
   "cell_type": "code",
   "execution_count": 3,
   "metadata": {},
   "outputs": [
    {
     "name": "stdout",
     "output_type": "stream",
     "text": [
      "t(2) = 1\n",
      "t(3) = 73\n",
      "t(4) = 3960\n",
      "t(5) = 190475\n",
      "t(6) = 8580671\n",
      "t(7) = 370903428\n"
     ]
    }
   ],
   "source": [
    "\n",
    "def t(n):\n",
    "    if n <= 1: return 0\n",
    "    elif n == 2: return 1\n",
    "    elif n > 2:\n",
    "        val = 36*t(n-1)\n",
    "        for i in range(2,n+1):\n",
    "            val += (6**(2*(n-i)) - t(n-i))\n",
    "        return val\n",
    "\n",
    "for n in range(2,8):\n",
    "    print(f't({n}) = {t(n)}')\n"
   ]
  }
 ],
 "metadata": {
  "kernelspec": {
   "display_name": "venv",
   "language": "python",
   "name": "venv"
  },
  "language_info": {
   "codemirror_mode": {
    "name": "ipython",
    "version": 3
   },
   "file_extension": ".py",
   "mimetype": "text/x-python",
   "name": "python",
   "nbconvert_exporter": "python",
   "pygments_lexer": "ipython3",
   "version": "3.12.4"
  }
 },
 "nbformat": 4,
 "nbformat_minor": 2
}
