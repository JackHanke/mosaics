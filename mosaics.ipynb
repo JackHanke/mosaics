{
 "cells": [
  {
   "cell_type": "markdown",
   "metadata": {},
   "source": [
    "# Mosaics Notebook"
   ]
  },
  {
   "cell_type": "code",
   "execution_count": 5,
   "metadata": {},
   "outputs": [
    {
     "name": "stdout",
     "output_type": "stream",
     "text": [
      "t_2,2 = 2\n",
      "t_3,3 = 14\n",
      "t_4,4 = 322\n",
      "t_5,5 = 23858\n",
      "t_6,6 = 5735478\n"
     ]
    }
   ],
   "source": [
    "def polygon_enumeration(n, m):\n",
    "    if m <= 1: return 0\n",
    "    elif m == 2:\n",
    "        M = matrix(QQ, \n",
    "            [\n",
    "                [1,1],\n",
    "                [1,1],\n",
    "            ]\n",
    "        )\n",
    "    elif m >= 3:\n",
    "        M = matrix(QQ, \n",
    "            [\n",
    "                [1,1,1,1],\n",
    "                [1,1,0,1],\n",
    "                [1,0,1,1],\n",
    "                [1,1,1,1],\n",
    "            ]\n",
    "        )\n",
    "\n",
    "        for _ in range(m-3):\n",
    "            row_nums = M.nrows()\n",
    "            half_row_nums = row_nums//2\n",
    "            col_nums = M.ncols()\n",
    "            half_col_nums = col_nums//2\n",
    "\n",
    "            M_1 = matrix([[M[i][j] for j in range(half_col_nums)] for i in range(half_row_nums)])\n",
    "            M_2 = matrix([[M[i][j] for j in range(half_col_nums, col_nums)] for i in range(half_row_nums)])\n",
    "            M_3 = matrix([[M[i][j] for j in range(half_col_nums)] for i in range(half_row_nums, row_nums)])\n",
    "            M_4 = matrix([[M[i][j] for j in range(half_col_nums, col_nums)] for i in range(half_row_nums, row_nums)])\n",
    "\n",
    "            M = block_matrix(\n",
    "                [\n",
    "                    [M_1, M_2, M_1, M_2],\n",
    "                    [M_3, M_4, 0*M_3, M_4],\n",
    "                    [M_1, 0*M_2, M_1, M_2],\n",
    "                    [M_3, M_4, M_3, M_4]\n",
    "                ]\n",
    "            )\n",
    "\n",
    "    val = (M[0] * M**(n-2) * M[:,0])[0]\n",
    "    return val\n",
    "\n",
    "def messy_polygon_enumeration(n, m, b=7):\n",
    "    if m <= 1: return 0\n",
    "    # define matrix  M\n",
    "    elif m == 2:\n",
    "        M = matrix(QQ, \n",
    "            [\n",
    "                [b**2,1],\n",
    "                [-1,1],\n",
    "            ]\n",
    "        )\n",
    "    \n",
    "    elif m >= 3:\n",
    "        M = matrix(QQ, \n",
    "            [\n",
    "                [b**3,b,b,1],\n",
    "                [-b,b,0,1],\n",
    "                [-b,0,b,1],\n",
    "                [-1,1,1,b],\n",
    "            ]\n",
    "        )\n",
    "\n",
    "        for _ in range(m-3):\n",
    "\n",
    "            row_nums = M.nrows()\n",
    "            half_row_nums = row_nums//2\n",
    "            col_nums = M.ncols()\n",
    "            half_col_nums = col_nums//2\n",
    "\n",
    "            M_1 = matrix([[M[i][j] for j in range(half_col_nums)] for i in range(half_row_nums)])\n",
    "            M_2 = matrix([[M[i][j] for j in range(half_col_nums, col_nums)] for i in range(half_row_nums)])\n",
    "            M_3 = matrix([[M[i][j] for j in range(half_col_nums)] for i in range(half_row_nums, row_nums)])\n",
    "            M_4 = matrix([[M[i][j] for j in range(half_col_nums, col_nums)] for i in range(half_row_nums, row_nums)])\n",
    "\n",
    "            M = block_matrix(\n",
    "                [\n",
    "                    [b*M_1, b*M_2, M_1/b, M_2],\n",
    "                    [b*M_3, b*M_4, 0*M_3, M_4],\n",
    "                    [-1*M_1/b, 0*M_2, M_1/b, M_2],\n",
    "                    [M_3, M_4, -1*M_3, b*M_4]\n",
    "                ]\n",
    "            )\n",
    "\n",
    "    val = (M[0] * M**(n-2) * M[:,0])[0]\n",
    "    return val\n",
    "\n",
    "for n in range(2, 7):\n",
    "    m = n\n",
    "    val = polygon_enumeration(n=n, m=m)\n",
    "    print(f't_{n},{m} = {val}')\n",
    "    # val = messy_polygon_enumeration(n=n, m=m, b=6)\n",
    "    # print(f't_({n},{m}) = {val}')\n",
    "    # print(f'6^({n}*{m}) - t_({n},{m}) = {6**(n*m) - val}')\n",
    "    # print(f'p_({n},{m}) = {(val / 6**(n*m)).n()}')\n"
   ]
  },
  {
   "cell_type": "code",
   "execution_count": null,
   "metadata": {},
   "outputs": [],
   "source": [
    "def a(n):\n",
    "    if n < 2: return 0 # check that the solution you eventually find for a,b,c,d includes this \n",
    "    if n == 2: return 36\n",
    "    return 6 * a(n-1) + 6 * b(n-1)\n",
    "\n",
    "\n",
    "def b(n):\n",
    "    if n < 2: return 0\n",
    "    if n == 2: return 0\n",
    "    return 6 * b(n-1) + 6 * d(n-1)\n",
    "\n",
    "\n",
    "def c(n):\n",
    "    if n < 2: return 0\n",
    "    if n == 2: return 0\n",
    "    return 6 * c(n-1) + 6 * b(n-1)\n",
    "\n",
    "def d(n):\n",
    "    if n < 2: return 0\n",
    "    if n == 2: return 1\n",
    "    return 6 * d(n-1) + (1/3) * b(n-1)\n",
    "\n",
    "def f(n):\n",
    "    return 2*a(n) + 4 * b(n) + 2*c(n) + d(n)\n",
    "\n",
    "def T_3(n):\n",
    "    if n < 2: return 0\n",
    "    if n == 2: return 73\n",
    "    sum = 0\n",
    "    for i in range(2,n-1):\n",
    "        sum += (6**(3*(n-i)) - T_3(n-i)) * (2*a(i)+4*b(i)+2*c(i)+d(i))\n",
    "    return 216*T_3(n-1) + sum + 216*(2*a(n-1)+4*b(n-1)+2*c(n-1)+d(n-1)) + (2*a(n)+4*b(n)+2*c(n)+d(n))"
   ]
  },
  {
   "cell_type": "code",
   "execution_count": 1,
   "metadata": {},
   "outputs": [
    {
     "name": "stdout",
     "output_type": "stream",
     "text": [
      "L_2(2) = [[1]\n",
      " [1]]\n",
      "L_2(3) = [[73]\n",
      " [36]]\n",
      "L_2(4) = [[3960]\n",
      " [1259]]\n",
      "L_2(5) = [[190475]\n",
      " [ 43955]]\n",
      "L_2(6) = [[8580671]\n",
      " [1533096]]\n",
      "L_2(7) = [[370903428]\n",
      " [ 53418601]]\n"
     ]
    }
   ],
   "source": [
    "import numpy as np\n",
    "\n",
    "def L_2(w):\n",
    "    b = (36**(w-2))*np.array([[1],[1]])\n",
    "    # b = np.array([[1],[1]])\n",
    "    m = np.array(\n",
    "        [\n",
    "            [36, 1],\n",
    "            [-1, 1]\n",
    "        ]\n",
    "    )\n",
    "    if w == 2: return b\n",
    "    return np.dot(m, L_2(w-1)) + b\n",
    "\n",
    "def L_3(w):\n",
    "    b = (216**(w-2))*np.array([[73],[37], [37], [18]])\n",
    "    # b = np.array([[1],[1]])\n",
    "    m = np.array(\n",
    "        [\n",
    "            [216, 6, 6, 1],\n",
    "            [-6, 6, 0, 1],\n",
    "            [-6, 0, 6, 1],\n",
    "            [-1, 1, 1, 6]\n",
    "        ]\n",
    "    )\n",
    "    if w == 2: return b\n",
    "    return np.dot(m, L_3(w-1)) + b\n",
    "\n",
    "for w in range(2,8):\n",
    "    print(f'L_2({w}) = {L_2(w)}')\n",
    "    # print(f'L_3({w}) = {L_3(w)}')\n"
   ]
  },
  {
   "cell_type": "code",
   "execution_count": 3,
   "metadata": {},
   "outputs": [
    {
     "name": "stdout",
     "output_type": "stream",
     "text": [
      "t(2) = 1\n",
      "t(3) = 73\n",
      "t(4) = 3960\n",
      "t(5) = 190475\n",
      "t(6) = 8580671\n",
      "t(7) = 370903428\n"
     ]
    }
   ],
   "source": [
    "\n",
    "def t(n):\n",
    "    if n <= 1: return 0\n",
    "    elif n == 2: return 1\n",
    "    elif n > 2:\n",
    "        val = 36*t(n-1)\n",
    "        for i in range(2,n+1):\n",
    "            val += (6**(2*(n-i)) - t(n-i))\n",
    "        return val\n",
    "\n",
    "for n in range(2,8):\n",
    "    print(f't({n}) = {t(n)}')\n"
   ]
  },
  {
   "cell_type": "code",
   "execution_count": 3,
   "metadata": {},
   "outputs": [
    {
     "name": "stdout",
     "output_type": "stream",
     "text": [
      "4.456534701235387\n",
      "5.316899619688655\n"
     ]
    }
   ],
   "source": [
    "# TODO main diagonal\n",
    "\n",
    "main_diag = [1, 31998, 20334816290, 365320963733070828]\n",
    "\n",
    "for i in range(len(main_diag)-2):\n",
    "    print(f'{(main_diag[i+2]*main_diag[i]/(main_diag[i+1]**2))**(1/2)}')\n"
   ]
  }
 ],
 "metadata": {
  "kernelspec": {
   "display_name": "SageMath 10.5",
   "language": "sage",
   "name": "SageMath-10.5"
  },
  "language_info": {
   "codemirror_mode": {
    "name": "ipython",
    "version": 3
   },
   "file_extension": ".py",
   "mimetype": "text/x-python",
   "name": "python",
   "nbconvert_exporter": "python",
   "pygments_lexer": "ipython3",
   "version": "3.12.5"
  }
 },
 "nbformat": 4,
 "nbformat_minor": 2
}
